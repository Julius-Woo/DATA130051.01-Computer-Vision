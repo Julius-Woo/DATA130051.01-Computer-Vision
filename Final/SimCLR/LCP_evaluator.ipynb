{
  "cells": [
    {
      "cell_type": "code",
      "execution_count": 2,
      "metadata": {
        "id": "YUemQib7ZE4D"
      },
      "outputs": [],
      "source": [
        "import torch\n",
        "import os\n",
        "import torchvision\n",
        "from torch.utils.data import DataLoader\n",
        "import torchvision.datasets as datasets\n",
        "import torchvision.transforms as transforms\n",
        "import torch.nn as nn\n",
        "import time\n",
        "from tqdm import tqdm\n",
        "from torch.utils.tensorboard import SummaryWriter\n",
        "\n",
        "\n",
        "device = 'cuda' if torch.cuda.is_available() else 'cpu'\n",
        "# print(\"Using device:\", device)"
      ]
    },
    {
      "cell_type": "code",
      "execution_count": 3,
      "metadata": {},
      "outputs": [],
      "source": [
        "def get_cifar100_data_loaders(download, shuffle=True, batch_size=128, num_workers=8):\n",
        "    transform_train = transforms.Compose([\n",
        "        transforms.RandomCrop(32, padding=4),\n",
        "        transforms.RandomHorizontalFlip(),\n",
        "        transforms.ToTensor(),\n",
        "        transforms.Normalize((0.5071, 0.4867, 0.4408), (0.2675, 0.2565, 0.2761))\n",
        "    ])\n",
        "\n",
        "    transform_test = transforms.Compose([\n",
        "        transforms.ToTensor(),\n",
        "        transforms.Normalize((0.5071, 0.4867, 0.4408), (0.2675, 0.2565, 0.2761))\n",
        "    ])\n",
        "\n",
        "    train_dataset = datasets.CIFAR100('./datasets', train=True, download=download,\n",
        "                                      transform=transform_train)\n",
        "\n",
        "    train_loader = DataLoader(train_dataset, batch_size=batch_size,\n",
        "                              num_workers=num_workers, shuffle=shuffle)\n",
        "\n",
        "    test_dataset = datasets.CIFAR100('./datasets', train=False, download=download,\n",
        "                                     transform=transform_test)\n",
        "\n",
        "    test_loader = DataLoader(test_dataset, batch_size=2*batch_size,\n",
        "                             num_workers=num_workers, shuffle=shuffle)\n",
        "    \n",
        "    return train_loader, test_loader"
      ]
    },
    {
      "cell_type": "code",
      "execution_count": 4,
      "metadata": {},
      "outputs": [],
      "source": [
        "def accuracy(output, target, topk=(1,)):\n",
        "    \"\"\"Computes the accuracy over the k top predictions for the specified values of k\"\"\"\n",
        "    with torch.no_grad():\n",
        "        maxk = max(topk)\n",
        "        batch_size = target.size(0)\n",
        "\n",
        "        _, pred = output.topk(maxk, 1, True, True)\n",
        "        pred = pred.t()\n",
        "        correct = pred.eq(target.view(1, -1).expand_as(pred))\n",
        "\n",
        "        res = []\n",
        "        for k in topk:\n",
        "            correct_k = correct[:k].reshape(-1).float().sum(0, keepdim=True)\n",
        "            res.append(correct_k.mul_(100.0 / batch_size))\n",
        "        return res"
      ]
    },
    {
      "cell_type": "code",
      "execution_count": 8,
      "metadata": {},
      "outputs": [],
      "source": [
        "def train(model, train_loader, test_loader, device, epochs=200):\n",
        "    current_time = time.strftime(\"%Y%m%d-%H%M%S\")\n",
        "    log_dir = os.path.join('./runs', f'LCP+{current_time}')\n",
        "    \n",
        "    writer = SummaryWriter(log_dir=log_dir)\n",
        "    \n",
        "    if torch.cuda.device_count() > 1:\n",
        "        print(f\"Using {torch.cuda.device_count()} GPUs\")\n",
        "        model = torch.nn.DataParallel(model)\n",
        "    \n",
        "    model.to(device)\n",
        "    \n",
        "    optimizer = torch.optim.Adam(model.parameters(), lr=0.0005, weight_decay=8e-4)\n",
        "    criterion = torch.nn.CrossEntropyLoss().to(device)\n",
        "    scheduler = None\n",
        "    # scheduler = torch.optim.lr_scheduler.CosineAnnealingLR(optimizer, T_max=len(train_loader), eta_min=1e-6)\n",
        "    \n",
        "    for epoch in tqdm(range(epochs), desc=\"Epochs\", ncols=75):\n",
        "        model.train()\n",
        "        top1_train_accuracy = 0\n",
        "        for counter, (x_batch, y_batch) in enumerate(train_loader):\n",
        "            x_batch = x_batch.to(device)\n",
        "            y_batch = y_batch.to(device)\n",
        "\n",
        "            logits = model(x_batch)\n",
        "            loss = criterion(logits, y_batch)\n",
        "            top1 = accuracy(logits, y_batch, topk=(1,))\n",
        "            top1_train_accuracy += top1[0]\n",
        "\n",
        "            optimizer.zero_grad()\n",
        "            loss.backward()\n",
        "            optimizer.step()\n",
        "\n",
        "        top1_train_accuracy /= (counter + 1)\n",
        "        if scheduler is not None:\n",
        "            scheduler.step()\n",
        "        \n",
        "        model.eval()\n",
        "        top1_accuracy = 0\n",
        "        top5_accuracy = 0\n",
        "        \n",
        "        with torch.no_grad():\n",
        "            for counter, (x_batch, y_batch) in enumerate(test_loader):\n",
        "                x_batch = x_batch.to(device)\n",
        "                y_batch = y_batch.to(device)\n",
        "\n",
        "                logits = model(x_batch)\n",
        "\n",
        "                top1, top5 = accuracy(logits, y_batch, topk=(1, 5))\n",
        "                top1_accuracy += top1[0]\n",
        "                top5_accuracy += top5[0]\n",
        "\n",
        "        top1_accuracy /= (counter + 1)\n",
        "        top5_accuracy /= (counter + 1)\n",
        "\n",
        "        # 写入TensorBoard\n",
        "        writer.add_scalar('Loss/train', loss.item(), epoch)\n",
        "        writer.add_scalar('Accuracy/Top1 Train', top1_train_accuracy.item(), epoch)\n",
        "        writer.add_scalar('Accuracy/Top1 Test', top1_accuracy.item(), epoch)\n",
        "        writer.add_scalar('Accuracy/Top5 Test', top5_accuracy.item(), epoch)\n",
        "        \n",
        "        # 打印输出，控制到两位小数\n",
        "        print(f\"Epoch {epoch} Loss: {loss.item():.4f} Top1 train_acc: {top1_train_accuracy.item():.2f} Top1 test_acc: {top1_accuracy.item():.2f} Top5 test_acc: {top5_accuracy.item():.2f}\")\n",
        "    \n",
        "    # 关闭writer\n",
        "    writer.close()"
      ]
    },
    {
      "cell_type": "markdown",
      "metadata": {},
      "source": [
        "### Linear Classification Protocal"
      ]
    },
    {
      "cell_type": "code",
      "execution_count": 16,
      "metadata": {},
      "outputs": [
        {
          "name": "stdout",
          "output_type": "stream",
          "text": [
            "Files already downloaded and verified\n",
            "Files already downloaded and verified\n"
          ]
        }
      ],
      "source": [
        "# Load checkpoints\n",
        "\n",
        "model = torchvision.models.resnet18(weights=None, num_classes=100).to(device)\n",
        "# checkpoint = torch.load('./runs/resnet18-1.00-200epochs/checkpoint_0200.pth.tar', map_location=device)\n",
        "# checkpoint = torch.load('./runs/resnet18-0.75-150epochs/checkpoint_0125.pth.tar', map_location=device)\n",
        "# checkpoint = torch.load('./runs/resnet18-0.50-150epochs/checkpoint_0125.pth.tar', map_location=device)\n",
        "checkpoint = torch.load('./runs/resnet18-0.25-150epochs/checkpoint_0125.pth.tar', map_location=device)\n",
        "state_dict = checkpoint['state_dict']\n",
        "\n",
        "for k in list(state_dict.keys()):\n",
        "  if k.startswith('module.backbone.'):\n",
        "    if k.startswith('module.backbone') and not k.startswith('module.backbone.fc'):\n",
        "      # remove prefix\n",
        "      state_dict[k[len(\"module.backbone.\"):]] = state_dict[k]\n",
        "  del state_dict[k]\n",
        "  \n",
        "log = model.load_state_dict(state_dict, strict=False)\n",
        "assert log.missing_keys == ['fc.weight', 'fc.bias']\n",
        "\n",
        "\n",
        "train_loader, test_loader = get_cifar100_data_loaders(download=True)"
      ]
    },
    {
      "cell_type": "code",
      "execution_count": 17,
      "metadata": {},
      "outputs": [],
      "source": [
        "# freeze all layers but the last fc\n",
        "for name, param in model.named_parameters():\n",
        "    if name not in ['fc.weight', 'fc.bias']:\n",
        "        param.requires_grad = False\n",
        "\n",
        "parameters = list(filter(lambda p: p.requires_grad, model.parameters()))\n",
        "assert len(parameters) == 2  # fc.weight, fc.bias"
      ]
    },
    {
      "cell_type": "code",
      "execution_count": 18,
      "metadata": {},
      "outputs": [
        {
          "name": "stderr",
          "output_type": "stream",
          "text": [
            "Epochs:   2%|▊                              | 1/40 [00:06<04:21,  6.70s/it]"
          ]
        },
        {
          "name": "stdout",
          "output_type": "stream",
          "text": [
            "Epoch 0 Loss: 3.9783 Top1 train_acc: 8.69 Top1 test_acc: 12.49 Top5 test_acc: 32.78\n"
          ]
        },
        {
          "name": "stderr",
          "output_type": "stream",
          "text": [
            "Epochs:   5%|█▌                             | 2/40 [00:13<04:13,  6.66s/it]"
          ]
        },
        {
          "name": "stdout",
          "output_type": "stream",
          "text": [
            "Epoch 1 Loss: 3.6910 Top1 train_acc: 12.45 Top1 test_acc: 14.35 Top5 test_acc: 36.04\n"
          ]
        },
        {
          "name": "stderr",
          "output_type": "stream",
          "text": [
            "Epochs:   8%|██▎                            | 3/40 [00:20<04:09,  6.74s/it]"
          ]
        },
        {
          "name": "stdout",
          "output_type": "stream",
          "text": [
            "Epoch 2 Loss: 3.6835 Top1 train_acc: 13.50 Top1 test_acc: 15.04 Top5 test_acc: 37.53\n"
          ]
        },
        {
          "name": "stderr",
          "output_type": "stream",
          "text": [
            "Epochs:  10%|███                            | 4/40 [00:26<04:02,  6.74s/it]"
          ]
        },
        {
          "name": "stdout",
          "output_type": "stream",
          "text": [
            "Epoch 3 Loss: 3.4923 Top1 train_acc: 14.63 Top1 test_acc: 15.68 Top5 test_acc: 38.14\n"
          ]
        },
        {
          "name": "stderr",
          "output_type": "stream",
          "text": [
            "Epochs:  12%|███▉                           | 5/40 [00:33<03:56,  6.75s/it]"
          ]
        },
        {
          "name": "stdout",
          "output_type": "stream",
          "text": [
            "Epoch 4 Loss: 4.0133 Top1 train_acc: 14.71 Top1 test_acc: 15.97 Top5 test_acc: 39.16\n"
          ]
        },
        {
          "name": "stderr",
          "output_type": "stream",
          "text": [
            "Epochs:  15%|████▋                          | 6/40 [00:40<03:50,  6.78s/it]"
          ]
        },
        {
          "name": "stdout",
          "output_type": "stream",
          "text": [
            "Epoch 5 Loss: 3.9126 Top1 train_acc: 15.36 Top1 test_acc: 17.18 Top5 test_acc: 40.04\n"
          ]
        },
        {
          "name": "stderr",
          "output_type": "stream",
          "text": [
            "Epochs:  18%|█████▍                         | 7/40 [00:47<03:44,  6.80s/it]"
          ]
        },
        {
          "name": "stdout",
          "output_type": "stream",
          "text": [
            "Epoch 6 Loss: 3.5850 Top1 train_acc: 15.70 Top1 test_acc: 16.69 Top5 test_acc: 40.69\n"
          ]
        },
        {
          "name": "stderr",
          "output_type": "stream",
          "text": [
            "Epochs:  20%|██████▏                        | 8/40 [00:54<03:37,  6.81s/it]"
          ]
        },
        {
          "name": "stdout",
          "output_type": "stream",
          "text": [
            "Epoch 7 Loss: 3.0692 Top1 train_acc: 16.07 Top1 test_acc: 17.02 Top5 test_acc: 40.94\n"
          ]
        },
        {
          "name": "stderr",
          "output_type": "stream",
          "text": [
            "Epochs:  22%|██████▉                        | 9/40 [01:01<03:32,  6.84s/it]"
          ]
        },
        {
          "name": "stdout",
          "output_type": "stream",
          "text": [
            "Epoch 8 Loss: 3.3150 Top1 train_acc: 16.43 Top1 test_acc: 17.45 Top5 test_acc: 41.04\n"
          ]
        },
        {
          "name": "stderr",
          "output_type": "stream",
          "text": [
            "Epochs:  25%|███████▌                      | 10/40 [01:07<03:24,  6.80s/it]"
          ]
        },
        {
          "name": "stdout",
          "output_type": "stream",
          "text": [
            "Epoch 9 Loss: 3.4840 Top1 train_acc: 16.52 Top1 test_acc: 17.64 Top5 test_acc: 40.04\n"
          ]
        },
        {
          "name": "stderr",
          "output_type": "stream",
          "text": [
            "Epochs:  28%|████████▎                     | 11/40 [01:14<03:17,  6.81s/it]"
          ]
        },
        {
          "name": "stdout",
          "output_type": "stream",
          "text": [
            "Epoch 10 Loss: 3.6173 Top1 train_acc: 16.61 Top1 test_acc: 17.69 Top5 test_acc: 42.04\n"
          ]
        },
        {
          "name": "stderr",
          "output_type": "stream",
          "text": [
            "Epochs:  30%|█████████                     | 12/40 [01:21<03:09,  6.78s/it]"
          ]
        },
        {
          "name": "stdout",
          "output_type": "stream",
          "text": [
            "Epoch 11 Loss: 3.5957 Top1 train_acc: 16.74 Top1 test_acc: 17.77 Top5 test_acc: 41.27\n"
          ]
        },
        {
          "name": "stderr",
          "output_type": "stream",
          "text": [
            "Epochs:  32%|█████████▊                    | 13/40 [01:28<03:01,  6.74s/it]"
          ]
        },
        {
          "name": "stdout",
          "output_type": "stream",
          "text": [
            "Epoch 12 Loss: 3.4926 Top1 train_acc: 16.91 Top1 test_acc: 18.14 Top5 test_acc: 41.62\n"
          ]
        },
        {
          "name": "stderr",
          "output_type": "stream",
          "text": [
            "Epochs:  35%|██████████▌                   | 14/40 [01:34<02:54,  6.71s/it]"
          ]
        },
        {
          "name": "stdout",
          "output_type": "stream",
          "text": [
            "Epoch 13 Loss: 3.7042 Top1 train_acc: 17.00 Top1 test_acc: 18.41 Top5 test_acc: 41.63\n"
          ]
        },
        {
          "name": "stderr",
          "output_type": "stream",
          "text": [
            "Epochs:  38%|███████████▎                  | 15/40 [01:41<02:46,  6.67s/it]"
          ]
        },
        {
          "name": "stdout",
          "output_type": "stream",
          "text": [
            "Epoch 14 Loss: 3.4218 Top1 train_acc: 17.17 Top1 test_acc: 17.75 Top5 test_acc: 41.54\n"
          ]
        },
        {
          "name": "stderr",
          "output_type": "stream",
          "text": [
            "Epochs:  40%|████████████                  | 16/40 [01:47<02:39,  6.65s/it]"
          ]
        },
        {
          "name": "stdout",
          "output_type": "stream",
          "text": [
            "Epoch 15 Loss: 3.5516 Top1 train_acc: 17.49 Top1 test_acc: 17.70 Top5 test_acc: 41.95\n"
          ]
        },
        {
          "name": "stderr",
          "output_type": "stream",
          "text": [
            "Epochs:  42%|████████████▊                 | 17/40 [01:54<02:33,  6.66s/it]"
          ]
        },
        {
          "name": "stdout",
          "output_type": "stream",
          "text": [
            "Epoch 16 Loss: 3.3791 Top1 train_acc: 17.30 Top1 test_acc: 18.84 Top5 test_acc: 43.29\n"
          ]
        },
        {
          "name": "stderr",
          "output_type": "stream",
          "text": [
            "Epochs:  45%|█████████████▌                | 18/40 [02:01<02:26,  6.66s/it]"
          ]
        },
        {
          "name": "stdout",
          "output_type": "stream",
          "text": [
            "Epoch 17 Loss: 3.4303 Top1 train_acc: 17.70 Top1 test_acc: 18.37 Top5 test_acc: 42.56\n"
          ]
        },
        {
          "name": "stderr",
          "output_type": "stream",
          "text": [
            "Epochs:  48%|██████████████▎               | 19/40 [02:07<02:19,  6.66s/it]"
          ]
        },
        {
          "name": "stdout",
          "output_type": "stream",
          "text": [
            "Epoch 18 Loss: 3.6292 Top1 train_acc: 17.45 Top1 test_acc: 18.50 Top5 test_acc: 42.97\n"
          ]
        },
        {
          "name": "stderr",
          "output_type": "stream",
          "text": [
            "Epochs:  50%|███████████████               | 20/40 [02:14<02:12,  6.63s/it]"
          ]
        },
        {
          "name": "stdout",
          "output_type": "stream",
          "text": [
            "Epoch 19 Loss: 3.2623 Top1 train_acc: 17.72 Top1 test_acc: 18.62 Top5 test_acc: 42.69\n"
          ]
        },
        {
          "name": "stderr",
          "output_type": "stream",
          "text": [
            "Epochs:  52%|███████████████▊              | 21/40 [02:21<02:06,  6.63s/it]"
          ]
        },
        {
          "name": "stdout",
          "output_type": "stream",
          "text": [
            "Epoch 20 Loss: 3.7433 Top1 train_acc: 17.77 Top1 test_acc: 18.62 Top5 test_acc: 42.58\n"
          ]
        },
        {
          "name": "stderr",
          "output_type": "stream",
          "text": [
            "Epochs:  55%|████████████████▌             | 22/40 [02:27<02:00,  6.68s/it]"
          ]
        },
        {
          "name": "stdout",
          "output_type": "stream",
          "text": [
            "Epoch 21 Loss: 3.8188 Top1 train_acc: 17.66 Top1 test_acc: 18.38 Top5 test_acc: 42.15\n"
          ]
        },
        {
          "name": "stderr",
          "output_type": "stream",
          "text": [
            "Epochs:  57%|█████████████████▎            | 23/40 [02:34<01:53,  6.69s/it]"
          ]
        },
        {
          "name": "stdout",
          "output_type": "stream",
          "text": [
            "Epoch 22 Loss: 3.6308 Top1 train_acc: 17.80 Top1 test_acc: 18.94 Top5 test_acc: 42.46\n"
          ]
        },
        {
          "name": "stderr",
          "output_type": "stream",
          "text": [
            "Epochs:  60%|██████████████████            | 24/40 [02:41<01:46,  6.67s/it]"
          ]
        },
        {
          "name": "stdout",
          "output_type": "stream",
          "text": [
            "Epoch 23 Loss: 3.4642 Top1 train_acc: 17.84 Top1 test_acc: 18.88 Top5 test_acc: 42.39\n"
          ]
        },
        {
          "name": "stderr",
          "output_type": "stream",
          "text": [
            "Epochs:  62%|██████████████████▊           | 25/40 [02:47<01:40,  6.67s/it]"
          ]
        },
        {
          "name": "stdout",
          "output_type": "stream",
          "text": [
            "Epoch 24 Loss: 3.5703 Top1 train_acc: 18.00 Top1 test_acc: 18.42 Top5 test_acc: 42.93\n"
          ]
        },
        {
          "name": "stderr",
          "output_type": "stream",
          "text": [
            "Epochs:  65%|███████████████████▌          | 26/40 [02:54<01:33,  6.69s/it]"
          ]
        },
        {
          "name": "stdout",
          "output_type": "stream",
          "text": [
            "Epoch 25 Loss: 3.7269 Top1 train_acc: 18.00 Top1 test_acc: 19.09 Top5 test_acc: 43.18\n"
          ]
        },
        {
          "name": "stderr",
          "output_type": "stream",
          "text": [
            "Epochs:  68%|████████████████████▎         | 27/40 [03:01<01:26,  6.65s/it]"
          ]
        },
        {
          "name": "stdout",
          "output_type": "stream",
          "text": [
            "Epoch 26 Loss: 3.6461 Top1 train_acc: 17.92 Top1 test_acc: 18.86 Top5 test_acc: 43.08\n"
          ]
        },
        {
          "name": "stderr",
          "output_type": "stream",
          "text": [
            "Epochs:  70%|█████████████████████         | 28/40 [03:07<01:19,  6.66s/it]"
          ]
        },
        {
          "name": "stdout",
          "output_type": "stream",
          "text": [
            "Epoch 27 Loss: 3.5319 Top1 train_acc: 17.93 Top1 test_acc: 18.76 Top5 test_acc: 43.14\n"
          ]
        },
        {
          "name": "stderr",
          "output_type": "stream",
          "text": [
            "Epochs:  72%|█████████████████████▊        | 29/40 [03:14<01:13,  6.67s/it]"
          ]
        },
        {
          "name": "stdout",
          "output_type": "stream",
          "text": [
            "Epoch 28 Loss: 3.6971 Top1 train_acc: 18.02 Top1 test_acc: 18.97 Top5 test_acc: 43.12\n"
          ]
        },
        {
          "name": "stderr",
          "output_type": "stream",
          "text": [
            "Epochs:  75%|██████████████████████▌       | 30/40 [03:21<01:06,  6.67s/it]"
          ]
        },
        {
          "name": "stdout",
          "output_type": "stream",
          "text": [
            "Epoch 29 Loss: 3.6720 Top1 train_acc: 18.29 Top1 test_acc: 19.08 Top5 test_acc: 42.77\n"
          ]
        },
        {
          "name": "stderr",
          "output_type": "stream",
          "text": [
            "Epochs:  78%|███████████████████████▎      | 31/40 [03:27<00:59,  6.64s/it]"
          ]
        },
        {
          "name": "stdout",
          "output_type": "stream",
          "text": [
            "Epoch 30 Loss: 3.5157 Top1 train_acc: 17.86 Top1 test_acc: 18.99 Top5 test_acc: 43.50\n"
          ]
        },
        {
          "name": "stderr",
          "output_type": "stream",
          "text": [
            "Epochs:  80%|████████████████████████      | 32/40 [03:34<00:53,  6.68s/it]"
          ]
        },
        {
          "name": "stdout",
          "output_type": "stream",
          "text": [
            "Epoch 31 Loss: 3.5038 Top1 train_acc: 18.05 Top1 test_acc: 19.90 Top5 test_acc: 43.36\n"
          ]
        },
        {
          "name": "stderr",
          "output_type": "stream",
          "text": [
            "Epochs:  82%|████████████████████████▊     | 33/40 [03:41<00:47,  6.72s/it]"
          ]
        },
        {
          "name": "stdout",
          "output_type": "stream",
          "text": [
            "Epoch 32 Loss: 3.4324 Top1 train_acc: 18.28 Top1 test_acc: 19.19 Top5 test_acc: 43.32\n"
          ]
        },
        {
          "name": "stderr",
          "output_type": "stream",
          "text": [
            "Epochs:  85%|█████████████████████████▌    | 34/40 [03:48<00:40,  6.78s/it]"
          ]
        },
        {
          "name": "stdout",
          "output_type": "stream",
          "text": [
            "Epoch 33 Loss: 3.3938 Top1 train_acc: 18.43 Top1 test_acc: 18.78 Top5 test_acc: 43.25\n"
          ]
        },
        {
          "name": "stderr",
          "output_type": "stream",
          "text": [
            "Epochs:  88%|██████████████████████████▎   | 35/40 [03:55<00:34,  6.81s/it]"
          ]
        },
        {
          "name": "stdout",
          "output_type": "stream",
          "text": [
            "Epoch 34 Loss: 3.5919 Top1 train_acc: 18.34 Top1 test_acc: 20.18 Top5 test_acc: 43.79\n"
          ]
        },
        {
          "name": "stderr",
          "output_type": "stream",
          "text": [
            "Epochs:  90%|███████████████████████████   | 36/40 [04:02<00:27,  6.85s/it]"
          ]
        },
        {
          "name": "stdout",
          "output_type": "stream",
          "text": [
            "Epoch 35 Loss: 3.4391 Top1 train_acc: 18.20 Top1 test_acc: 19.29 Top5 test_acc: 43.55\n"
          ]
        },
        {
          "name": "stderr",
          "output_type": "stream",
          "text": [
            "Epochs:  92%|███████████████████████████▊  | 37/40 [04:08<00:20,  6.82s/it]"
          ]
        },
        {
          "name": "stdout",
          "output_type": "stream",
          "text": [
            "Epoch 36 Loss: 3.3490 Top1 train_acc: 18.53 Top1 test_acc: 19.51 Top5 test_acc: 43.12\n"
          ]
        },
        {
          "name": "stderr",
          "output_type": "stream",
          "text": [
            "Epochs:  95%|████████████████████████████▌ | 38/40 [04:15<00:13,  6.85s/it]"
          ]
        },
        {
          "name": "stdout",
          "output_type": "stream",
          "text": [
            "Epoch 37 Loss: 3.6313 Top1 train_acc: 18.35 Top1 test_acc: 19.47 Top5 test_acc: 43.44\n"
          ]
        },
        {
          "name": "stderr",
          "output_type": "stream",
          "text": [
            "Epochs:  98%|█████████████████████████████▎| 39/40 [04:22<00:06,  6.80s/it]"
          ]
        },
        {
          "name": "stdout",
          "output_type": "stream",
          "text": [
            "Epoch 38 Loss: 3.6181 Top1 train_acc: 18.53 Top1 test_acc: 20.11 Top5 test_acc: 43.70\n"
          ]
        },
        {
          "name": "stderr",
          "output_type": "stream",
          "text": [
            "Epochs: 100%|██████████████████████████████| 40/40 [04:29<00:00,  6.73s/it]"
          ]
        },
        {
          "name": "stdout",
          "output_type": "stream",
          "text": [
            "Epoch 39 Loss: 3.4930 Top1 train_acc: 18.33 Top1 test_acc: 19.45 Top5 test_acc: 43.52\n"
          ]
        },
        {
          "name": "stderr",
          "output_type": "stream",
          "text": [
            "\n"
          ]
        }
      ],
      "source": [
        "train(model, train_loader, test_loader, device, epochs=40)"
      ]
    },
    {
      "cell_type": "markdown",
      "metadata": {},
      "source": [
        "### Load Pretrained Model"
      ]
    },
    {
      "cell_type": "code",
      "execution_count": 20,
      "metadata": {},
      "outputs": [
        {
          "name": "stderr",
          "output_type": "stream",
          "text": [
            "Downloading: \"https://download.pytorch.org/models/resnet18-f37072fd.pth\" to /root/.cache/torch/hub/checkpoints/resnet18-f37072fd.pth\n",
            "100%|██████████| 44.7M/44.7M [00:04<00:00, 9.93MB/s]\n",
            "Epochs:   2%|▊                              | 1/40 [00:07<04:54,  7.55s/it]"
          ]
        },
        {
          "name": "stdout",
          "output_type": "stream",
          "text": [
            "Epoch 0 Loss: 2.2843 Top1 train_acc: 30.24 Top1 test_acc: 41.27 Top5 test_acc: 74.08\n"
          ]
        },
        {
          "name": "stderr",
          "output_type": "stream",
          "text": [
            "Epochs:   5%|█▌                             | 2/40 [00:15<04:48,  7.60s/it]"
          ]
        },
        {
          "name": "stdout",
          "output_type": "stream",
          "text": [
            "Epoch 1 Loss: 2.1799 Top1 train_acc: 44.19 Top1 test_acc: 46.88 Top5 test_acc: 77.82\n"
          ]
        },
        {
          "name": "stderr",
          "output_type": "stream",
          "text": [
            "Epochs:   8%|██▎                            | 3/40 [00:22<04:35,  7.46s/it]"
          ]
        },
        {
          "name": "stdout",
          "output_type": "stream",
          "text": [
            "Epoch 2 Loss: 1.3957 Top1 train_acc: 49.23 Top1 test_acc: 49.91 Top5 test_acc: 80.48\n"
          ]
        },
        {
          "name": "stderr",
          "output_type": "stream",
          "text": [
            "Epochs:  10%|███                            | 4/40 [00:30<04:30,  7.52s/it]"
          ]
        },
        {
          "name": "stdout",
          "output_type": "stream",
          "text": [
            "Epoch 3 Loss: 1.6288 Top1 train_acc: 52.42 Top1 test_acc: 51.84 Top5 test_acc: 82.03\n"
          ]
        },
        {
          "name": "stderr",
          "output_type": "stream",
          "text": [
            "Epochs:  12%|███▉                           | 5/40 [00:37<04:19,  7.43s/it]"
          ]
        },
        {
          "name": "stdout",
          "output_type": "stream",
          "text": [
            "Epoch 4 Loss: 1.5813 Top1 train_acc: 54.79 Top1 test_acc: 51.69 Top5 test_acc: 81.63\n"
          ]
        },
        {
          "name": "stderr",
          "output_type": "stream",
          "text": [
            "Epochs:  15%|████▋                          | 6/40 [00:44<04:09,  7.33s/it]"
          ]
        },
        {
          "name": "stdout",
          "output_type": "stream",
          "text": [
            "Epoch 5 Loss: 1.7256 Top1 train_acc: 56.41 Top1 test_acc: 52.38 Top5 test_acc: 82.31\n"
          ]
        },
        {
          "name": "stderr",
          "output_type": "stream",
          "text": [
            "Epochs:  18%|█████▍                         | 7/40 [00:51<04:01,  7.32s/it]"
          ]
        },
        {
          "name": "stdout",
          "output_type": "stream",
          "text": [
            "Epoch 6 Loss: 1.3565 Top1 train_acc: 57.98 Top1 test_acc: 53.21 Top5 test_acc: 82.91\n"
          ]
        },
        {
          "name": "stderr",
          "output_type": "stream",
          "text": [
            "Epochs:  20%|██████▏                        | 8/40 [00:58<03:52,  7.27s/it]"
          ]
        },
        {
          "name": "stdout",
          "output_type": "stream",
          "text": [
            "Epoch 7 Loss: 1.8745 Top1 train_acc: 59.16 Top1 test_acc: 53.74 Top5 test_acc: 82.40\n"
          ]
        },
        {
          "name": "stderr",
          "output_type": "stream",
          "text": [
            "Epochs:  22%|██████▉                        | 9/40 [01:06<03:47,  7.34s/it]"
          ]
        },
        {
          "name": "stdout",
          "output_type": "stream",
          "text": [
            "Epoch 8 Loss: 1.4825 Top1 train_acc: 60.32 Top1 test_acc: 55.51 Top5 test_acc: 83.63\n"
          ]
        },
        {
          "name": "stderr",
          "output_type": "stream",
          "text": [
            "Epochs:  25%|███████▌                      | 10/40 [01:13<03:40,  7.34s/it]"
          ]
        },
        {
          "name": "stdout",
          "output_type": "stream",
          "text": [
            "Epoch 9 Loss: 1.6104 Top1 train_acc: 61.51 Top1 test_acc: 54.68 Top5 test_acc: 83.14\n"
          ]
        },
        {
          "name": "stderr",
          "output_type": "stream",
          "text": [
            "Epochs:  28%|████████▎                     | 11/40 [01:21<03:34,  7.41s/it]"
          ]
        },
        {
          "name": "stdout",
          "output_type": "stream",
          "text": [
            "Epoch 10 Loss: 1.5249 Top1 train_acc: 61.99 Top1 test_acc: 56.31 Top5 test_acc: 84.61\n"
          ]
        },
        {
          "name": "stderr",
          "output_type": "stream",
          "text": [
            "Epochs:  30%|█████████                     | 12/40 [01:28<03:27,  7.40s/it]"
          ]
        },
        {
          "name": "stdout",
          "output_type": "stream",
          "text": [
            "Epoch 11 Loss: 1.3608 Top1 train_acc: 63.11 Top1 test_acc: 56.18 Top5 test_acc: 84.64\n"
          ]
        },
        {
          "name": "stderr",
          "output_type": "stream",
          "text": [
            "Epochs:  32%|█████████▊                    | 13/40 [01:36<03:20,  7.44s/it]"
          ]
        },
        {
          "name": "stdout",
          "output_type": "stream",
          "text": [
            "Epoch 12 Loss: 1.4395 Top1 train_acc: 63.78 Top1 test_acc: 56.20 Top5 test_acc: 83.32\n"
          ]
        },
        {
          "name": "stderr",
          "output_type": "stream",
          "text": [
            "Epochs:  35%|██████████▌                   | 14/40 [01:43<03:14,  7.48s/it]"
          ]
        },
        {
          "name": "stdout",
          "output_type": "stream",
          "text": [
            "Epoch 13 Loss: 1.1982 Top1 train_acc: 64.74 Top1 test_acc: 57.06 Top5 test_acc: 84.41\n"
          ]
        },
        {
          "name": "stderr",
          "output_type": "stream",
          "text": [
            "Epochs:  38%|███████████▎                  | 15/40 [01:51<03:06,  7.47s/it]"
          ]
        },
        {
          "name": "stdout",
          "output_type": "stream",
          "text": [
            "Epoch 14 Loss: 1.3246 Top1 train_acc: 64.90 Top1 test_acc: 56.88 Top5 test_acc: 84.30\n"
          ]
        },
        {
          "name": "stderr",
          "output_type": "stream",
          "text": [
            "Epochs:  40%|████████████                  | 16/40 [01:58<02:58,  7.42s/it]"
          ]
        },
        {
          "name": "stdout",
          "output_type": "stream",
          "text": [
            "Epoch 15 Loss: 1.4212 Top1 train_acc: 65.76 Top1 test_acc: 56.84 Top5 test_acc: 84.15\n"
          ]
        },
        {
          "name": "stderr",
          "output_type": "stream",
          "text": [
            "Epochs:  42%|████████████▊                 | 17/40 [02:06<02:51,  7.44s/it]"
          ]
        },
        {
          "name": "stdout",
          "output_type": "stream",
          "text": [
            "Epoch 16 Loss: 0.9888 Top1 train_acc: 66.23 Top1 test_acc: 57.21 Top5 test_acc: 84.97\n"
          ]
        },
        {
          "name": "stderr",
          "output_type": "stream",
          "text": [
            "Epochs:  45%|█████████████▌                | 18/40 [02:13<02:42,  7.39s/it]"
          ]
        },
        {
          "name": "stdout",
          "output_type": "stream",
          "text": [
            "Epoch 17 Loss: 1.3346 Top1 train_acc: 66.46 Top1 test_acc: 57.43 Top5 test_acc: 84.53\n"
          ]
        },
        {
          "name": "stderr",
          "output_type": "stream",
          "text": [
            "Epochs:  48%|██████████████▎               | 19/40 [02:20<02:33,  7.33s/it]"
          ]
        },
        {
          "name": "stdout",
          "output_type": "stream",
          "text": [
            "Epoch 18 Loss: 1.3098 Top1 train_acc: 67.52 Top1 test_acc: 57.71 Top5 test_acc: 84.80\n"
          ]
        },
        {
          "name": "stderr",
          "output_type": "stream",
          "text": [
            "Epochs:  50%|███████████████               | 20/40 [02:28<02:27,  7.39s/it]"
          ]
        },
        {
          "name": "stdout",
          "output_type": "stream",
          "text": [
            "Epoch 19 Loss: 1.1461 Top1 train_acc: 67.55 Top1 test_acc: 56.70 Top5 test_acc: 83.93\n"
          ]
        },
        {
          "name": "stderr",
          "output_type": "stream",
          "text": [
            "Epochs:  52%|███████████████▊              | 21/40 [02:35<02:19,  7.35s/it]"
          ]
        },
        {
          "name": "stdout",
          "output_type": "stream",
          "text": [
            "Epoch 20 Loss: 1.3703 Top1 train_acc: 68.17 Top1 test_acc: 57.29 Top5 test_acc: 84.23\n"
          ]
        },
        {
          "name": "stderr",
          "output_type": "stream",
          "text": [
            "Epochs:  55%|████████████████▌             | 22/40 [02:42<02:11,  7.31s/it]"
          ]
        },
        {
          "name": "stdout",
          "output_type": "stream",
          "text": [
            "Epoch 21 Loss: 1.0056 Top1 train_acc: 68.88 Top1 test_acc: 57.54 Top5 test_acc: 84.68\n"
          ]
        },
        {
          "name": "stderr",
          "output_type": "stream",
          "text": [
            "Epochs:  57%|█████████████████▎            | 23/40 [02:50<02:05,  7.38s/it]"
          ]
        },
        {
          "name": "stdout",
          "output_type": "stream",
          "text": [
            "Epoch 22 Loss: 1.0355 Top1 train_acc: 69.18 Top1 test_acc: 57.03 Top5 test_acc: 84.29\n"
          ]
        },
        {
          "name": "stderr",
          "output_type": "stream",
          "text": [
            "Epochs:  60%|██████████████████            | 24/40 [02:57<01:57,  7.33s/it]"
          ]
        },
        {
          "name": "stdout",
          "output_type": "stream",
          "text": [
            "Epoch 23 Loss: 0.8983 Top1 train_acc: 69.21 Top1 test_acc: 56.93 Top5 test_acc: 84.29\n"
          ]
        },
        {
          "name": "stderr",
          "output_type": "stream",
          "text": [
            "Epochs:  62%|██████████████████▊           | 25/40 [03:04<01:50,  7.34s/it]"
          ]
        },
        {
          "name": "stdout",
          "output_type": "stream",
          "text": [
            "Epoch 24 Loss: 1.4327 Top1 train_acc: 70.08 Top1 test_acc: 56.90 Top5 test_acc: 84.27\n"
          ]
        },
        {
          "name": "stderr",
          "output_type": "stream",
          "text": [
            "Epochs:  65%|███████████████████▌          | 26/40 [03:12<01:43,  7.38s/it]"
          ]
        },
        {
          "name": "stdout",
          "output_type": "stream",
          "text": [
            "Epoch 25 Loss: 1.0416 Top1 train_acc: 70.35 Top1 test_acc: 58.25 Top5 test_acc: 85.14\n"
          ]
        },
        {
          "name": "stderr",
          "output_type": "stream",
          "text": [
            "Epochs:  68%|████████████████████▎         | 27/40 [03:19<01:35,  7.36s/it]"
          ]
        },
        {
          "name": "stdout",
          "output_type": "stream",
          "text": [
            "Epoch 26 Loss: 1.0432 Top1 train_acc: 70.95 Top1 test_acc: 57.50 Top5 test_acc: 84.31\n"
          ]
        },
        {
          "name": "stderr",
          "output_type": "stream",
          "text": [
            "Epochs:  70%|█████████████████████         | 28/40 [03:26<01:28,  7.40s/it]"
          ]
        },
        {
          "name": "stdout",
          "output_type": "stream",
          "text": [
            "Epoch 27 Loss: 1.1420 Top1 train_acc: 70.72 Top1 test_acc: 57.53 Top5 test_acc: 84.59\n"
          ]
        },
        {
          "name": "stderr",
          "output_type": "stream",
          "text": [
            "Epochs:  72%|█████████████████████▊        | 29/40 [03:34<01:21,  7.38s/it]"
          ]
        },
        {
          "name": "stdout",
          "output_type": "stream",
          "text": [
            "Epoch 28 Loss: 0.8993 Top1 train_acc: 71.42 Top1 test_acc: 58.45 Top5 test_acc: 84.55\n"
          ]
        },
        {
          "name": "stderr",
          "output_type": "stream",
          "text": [
            "Epochs:  75%|██████████████████████▌       | 30/40 [03:41<01:13,  7.39s/it]"
          ]
        },
        {
          "name": "stdout",
          "output_type": "stream",
          "text": [
            "Epoch 29 Loss: 0.8712 Top1 train_acc: 71.58 Top1 test_acc: 58.67 Top5 test_acc: 84.52\n"
          ]
        },
        {
          "name": "stderr",
          "output_type": "stream",
          "text": [
            "Epochs:  78%|███████████████████████▎      | 31/40 [03:48<01:06,  7.35s/it]"
          ]
        },
        {
          "name": "stdout",
          "output_type": "stream",
          "text": [
            "Epoch 30 Loss: 1.0790 Top1 train_acc: 71.71 Top1 test_acc: 57.76 Top5 test_acc: 84.89\n"
          ]
        },
        {
          "name": "stderr",
          "output_type": "stream",
          "text": [
            "Epochs:  80%|████████████████████████      | 32/40 [03:56<00:58,  7.34s/it]"
          ]
        },
        {
          "name": "stdout",
          "output_type": "stream",
          "text": [
            "Epoch 31 Loss: 1.0642 Top1 train_acc: 72.13 Top1 test_acc: 58.43 Top5 test_acc: 84.97\n"
          ]
        },
        {
          "name": "stderr",
          "output_type": "stream",
          "text": [
            "Epochs:  82%|████████████████████████▊     | 33/40 [04:04<00:52,  7.46s/it]"
          ]
        },
        {
          "name": "stdout",
          "output_type": "stream",
          "text": [
            "Epoch 32 Loss: 0.9312 Top1 train_acc: 72.44 Top1 test_acc: 57.02 Top5 test_acc: 83.97\n"
          ]
        },
        {
          "name": "stderr",
          "output_type": "stream",
          "text": [
            "Epochs:  85%|█████████████████████████▌    | 34/40 [04:11<00:44,  7.45s/it]"
          ]
        },
        {
          "name": "stdout",
          "output_type": "stream",
          "text": [
            "Epoch 33 Loss: 0.8741 Top1 train_acc: 72.62 Top1 test_acc: 57.86 Top5 test_acc: 85.10\n"
          ]
        },
        {
          "name": "stderr",
          "output_type": "stream",
          "text": [
            "Epochs:  88%|██████████████████████████▎   | 35/40 [04:18<00:37,  7.41s/it]"
          ]
        },
        {
          "name": "stdout",
          "output_type": "stream",
          "text": [
            "Epoch 34 Loss: 1.2099 Top1 train_acc: 73.17 Top1 test_acc: 57.59 Top5 test_acc: 84.62\n"
          ]
        },
        {
          "name": "stderr",
          "output_type": "stream",
          "text": [
            "Epochs:  90%|███████████████████████████   | 36/40 [04:26<00:29,  7.42s/it]"
          ]
        },
        {
          "name": "stdout",
          "output_type": "stream",
          "text": [
            "Epoch 35 Loss: 1.4805 Top1 train_acc: 73.51 Top1 test_acc: 58.33 Top5 test_acc: 84.18\n"
          ]
        },
        {
          "name": "stderr",
          "output_type": "stream",
          "text": [
            "Epochs:  92%|███████████████████████████▊  | 37/40 [04:33<00:22,  7.40s/it]"
          ]
        },
        {
          "name": "stdout",
          "output_type": "stream",
          "text": [
            "Epoch 36 Loss: 0.9555 Top1 train_acc: 73.31 Top1 test_acc: 58.06 Top5 test_acc: 84.52\n"
          ]
        },
        {
          "name": "stderr",
          "output_type": "stream",
          "text": [
            "Epochs:  95%|████████████████████████████▌ | 38/40 [04:41<00:14,  7.45s/it]"
          ]
        },
        {
          "name": "stdout",
          "output_type": "stream",
          "text": [
            "Epoch 37 Loss: 1.0023 Top1 train_acc: 73.97 Top1 test_acc: 58.22 Top5 test_acc: 84.77\n"
          ]
        },
        {
          "name": "stderr",
          "output_type": "stream",
          "text": [
            "Epochs:  98%|█████████████████████████████▎| 39/40 [04:48<00:07,  7.38s/it]"
          ]
        },
        {
          "name": "stdout",
          "output_type": "stream",
          "text": [
            "Epoch 38 Loss: 0.9445 Top1 train_acc: 74.41 Top1 test_acc: 57.42 Top5 test_acc: 83.90\n"
          ]
        },
        {
          "name": "stderr",
          "output_type": "stream",
          "text": [
            "Epochs: 100%|██████████████████████████████| 40/40 [04:55<00:00,  7.39s/it]"
          ]
        },
        {
          "name": "stdout",
          "output_type": "stream",
          "text": [
            "Epoch 39 Loss: 1.0252 Top1 train_acc: 74.27 Top1 test_acc: 57.83 Top5 test_acc: 84.63\n"
          ]
        },
        {
          "name": "stderr",
          "output_type": "stream",
          "text": [
            "\n"
          ]
        }
      ],
      "source": [
        "model = torchvision.models.resnet18(weights=torchvision.models.ResNet18_Weights).to(device)\n",
        "model.fc = nn.Linear(512, 100)\n",
        "train(model, train_loader, test_loader, device, epochs=40)"
      ]
    },
    {
      "cell_type": "markdown",
      "metadata": {},
      "source": [
        "### Training from scratch"
      ]
    },
    {
      "cell_type": "code",
      "execution_count": 21,
      "metadata": {},
      "outputs": [
        {
          "name": "stderr",
          "output_type": "stream",
          "text": [
            "Epochs:   2%|▊                              | 1/40 [00:07<04:44,  7.28s/it]"
          ]
        },
        {
          "name": "stdout",
          "output_type": "stream",
          "text": [
            "Epoch 0 Loss: 3.4538 Top1 train_acc: 13.61 Top1 test_acc: 19.57 Top5 test_acc: 48.41\n"
          ]
        },
        {
          "name": "stderr",
          "output_type": "stream",
          "text": [
            "Epochs:   5%|█▌                             | 2/40 [00:14<04:39,  7.36s/it]"
          ]
        },
        {
          "name": "stdout",
          "output_type": "stream",
          "text": [
            "Epoch 1 Loss: 2.9726 Top1 train_acc: 23.07 Top1 test_acc: 27.66 Top5 test_acc: 58.42\n"
          ]
        },
        {
          "name": "stderr",
          "output_type": "stream",
          "text": [
            "Epochs:   8%|██▎                            | 3/40 [00:22<04:31,  7.34s/it]"
          ]
        },
        {
          "name": "stdout",
          "output_type": "stream",
          "text": [
            "Epoch 2 Loss: 2.7284 Top1 train_acc: 28.70 Top1 test_acc: 31.66 Top5 test_acc: 63.19\n"
          ]
        },
        {
          "name": "stderr",
          "output_type": "stream",
          "text": [
            "Epochs:  10%|███                            | 4/40 [00:29<04:26,  7.41s/it]"
          ]
        },
        {
          "name": "stdout",
          "output_type": "stream",
          "text": [
            "Epoch 3 Loss: 2.8134 Top1 train_acc: 32.79 Top1 test_acc: 34.79 Top5 test_acc: 66.36\n"
          ]
        },
        {
          "name": "stderr",
          "output_type": "stream",
          "text": [
            "Epochs:  12%|███▉                           | 5/40 [00:36<04:17,  7.34s/it]"
          ]
        },
        {
          "name": "stdout",
          "output_type": "stream",
          "text": [
            "Epoch 4 Loss: 2.8327 Top1 train_acc: 35.64 Top1 test_acc: 37.02 Top5 test_acc: 67.80\n"
          ]
        },
        {
          "name": "stderr",
          "output_type": "stream",
          "text": [
            "Epochs:  15%|████▋                          | 6/40 [00:44<04:10,  7.38s/it]"
          ]
        },
        {
          "name": "stdout",
          "output_type": "stream",
          "text": [
            "Epoch 5 Loss: 2.2825 Top1 train_acc: 38.30 Top1 test_acc: 38.54 Top5 test_acc: 70.46\n"
          ]
        },
        {
          "name": "stderr",
          "output_type": "stream",
          "text": [
            "Epochs:  18%|█████▍                         | 7/40 [00:51<04:03,  7.38s/it]"
          ]
        },
        {
          "name": "stdout",
          "output_type": "stream",
          "text": [
            "Epoch 6 Loss: 2.4006 Top1 train_acc: 40.71 Top1 test_acc: 39.70 Top5 test_acc: 71.09\n"
          ]
        },
        {
          "name": "stderr",
          "output_type": "stream",
          "text": [
            "Epochs:  20%|██████▏                        | 8/40 [00:58<03:55,  7.36s/it]"
          ]
        },
        {
          "name": "stdout",
          "output_type": "stream",
          "text": [
            "Epoch 7 Loss: 2.0212 Top1 train_acc: 42.30 Top1 test_acc: 42.61 Top5 test_acc: 74.62\n"
          ]
        },
        {
          "name": "stderr",
          "output_type": "stream",
          "text": [
            "Epochs:  22%|██████▉                        | 9/40 [01:06<03:47,  7.35s/it]"
          ]
        },
        {
          "name": "stdout",
          "output_type": "stream",
          "text": [
            "Epoch 8 Loss: 1.9015 Top1 train_acc: 44.17 Top1 test_acc: 43.96 Top5 test_acc: 75.26\n"
          ]
        },
        {
          "name": "stderr",
          "output_type": "stream",
          "text": [
            "Epochs:  25%|███████▌                      | 10/40 [01:13<03:40,  7.36s/it]"
          ]
        },
        {
          "name": "stdout",
          "output_type": "stream",
          "text": [
            "Epoch 9 Loss: 2.3949 Top1 train_acc: 45.55 Top1 test_acc: 43.75 Top5 test_acc: 74.43\n"
          ]
        },
        {
          "name": "stderr",
          "output_type": "stream",
          "text": [
            "Epochs:  28%|████████▎                     | 11/40 [01:20<03:31,  7.28s/it]"
          ]
        },
        {
          "name": "stdout",
          "output_type": "stream",
          "text": [
            "Epoch 10 Loss: 1.8470 Top1 train_acc: 46.96 Top1 test_acc: 44.43 Top5 test_acc: 74.58\n"
          ]
        },
        {
          "name": "stderr",
          "output_type": "stream",
          "text": [
            "Epochs:  30%|█████████                     | 12/40 [01:28<03:26,  7.37s/it]"
          ]
        },
        {
          "name": "stdout",
          "output_type": "stream",
          "text": [
            "Epoch 11 Loss: 1.6872 Top1 train_acc: 48.16 Top1 test_acc: 46.03 Top5 test_acc: 77.39\n"
          ]
        },
        {
          "name": "stderr",
          "output_type": "stream",
          "text": [
            "Epochs:  32%|█████████▊                    | 13/40 [01:35<03:18,  7.35s/it]"
          ]
        },
        {
          "name": "stdout",
          "output_type": "stream",
          "text": [
            "Epoch 12 Loss: 1.7900 Top1 train_acc: 49.39 Top1 test_acc: 47.12 Top5 test_acc: 78.10\n"
          ]
        },
        {
          "name": "stderr",
          "output_type": "stream",
          "text": [
            "Epochs:  35%|██████████▌                   | 14/40 [01:42<03:11,  7.36s/it]"
          ]
        },
        {
          "name": "stdout",
          "output_type": "stream",
          "text": [
            "Epoch 13 Loss: 1.7634 Top1 train_acc: 50.30 Top1 test_acc: 47.31 Top5 test_acc: 78.06\n"
          ]
        },
        {
          "name": "stderr",
          "output_type": "stream",
          "text": [
            "Epochs:  38%|███████████▎                  | 15/40 [01:50<03:02,  7.31s/it]"
          ]
        },
        {
          "name": "stdout",
          "output_type": "stream",
          "text": [
            "Epoch 14 Loss: 1.9364 Top1 train_acc: 51.51 Top1 test_acc: 48.32 Top5 test_acc: 78.72\n"
          ]
        },
        {
          "name": "stderr",
          "output_type": "stream",
          "text": [
            "Epochs:  40%|████████████                  | 16/40 [01:57<02:56,  7.34s/it]"
          ]
        },
        {
          "name": "stdout",
          "output_type": "stream",
          "text": [
            "Epoch 15 Loss: 1.8658 Top1 train_acc: 52.26 Top1 test_acc: 48.59 Top5 test_acc: 79.42\n"
          ]
        },
        {
          "name": "stderr",
          "output_type": "stream",
          "text": [
            "Epochs:  42%|████████████▊                 | 17/40 [02:04<02:47,  7.29s/it]"
          ]
        },
        {
          "name": "stdout",
          "output_type": "stream",
          "text": [
            "Epoch 16 Loss: 1.7230 Top1 train_acc: 53.44 Top1 test_acc: 48.54 Top5 test_acc: 79.09\n"
          ]
        },
        {
          "name": "stderr",
          "output_type": "stream",
          "text": [
            "Epochs:  45%|█████████████▌                | 18/40 [02:12<02:40,  7.29s/it]"
          ]
        },
        {
          "name": "stdout",
          "output_type": "stream",
          "text": [
            "Epoch 17 Loss: 1.9758 Top1 train_acc: 54.28 Top1 test_acc: 48.89 Top5 test_acc: 79.21\n"
          ]
        },
        {
          "name": "stderr",
          "output_type": "stream",
          "text": [
            "Epochs:  48%|██████████████▎               | 19/40 [02:19<02:33,  7.31s/it]"
          ]
        },
        {
          "name": "stdout",
          "output_type": "stream",
          "text": [
            "Epoch 18 Loss: 2.1226 Top1 train_acc: 54.98 Top1 test_acc: 49.97 Top5 test_acc: 79.53\n"
          ]
        },
        {
          "name": "stderr",
          "output_type": "stream",
          "text": [
            "Epochs:  50%|███████████████               | 20/40 [02:26<02:26,  7.30s/it]"
          ]
        },
        {
          "name": "stdout",
          "output_type": "stream",
          "text": [
            "Epoch 19 Loss: 1.6261 Top1 train_acc: 55.81 Top1 test_acc: 51.59 Top5 test_acc: 81.15\n"
          ]
        },
        {
          "name": "stderr",
          "output_type": "stream",
          "text": [
            "Epochs:  52%|███████████████▊              | 21/40 [02:34<02:18,  7.31s/it]"
          ]
        },
        {
          "name": "stdout",
          "output_type": "stream",
          "text": [
            "Epoch 20 Loss: 1.8509 Top1 train_acc: 56.94 Top1 test_acc: 50.80 Top5 test_acc: 80.29\n"
          ]
        },
        {
          "name": "stderr",
          "output_type": "stream",
          "text": [
            "Epochs:  55%|████████████████▌             | 22/40 [02:41<02:11,  7.33s/it]"
          ]
        },
        {
          "name": "stdout",
          "output_type": "stream",
          "text": [
            "Epoch 21 Loss: 1.4415 Top1 train_acc: 57.43 Top1 test_acc: 52.32 Top5 test_acc: 82.02\n"
          ]
        },
        {
          "name": "stderr",
          "output_type": "stream",
          "text": [
            "Epochs:  57%|█████████████████▎            | 23/40 [02:48<02:05,  7.38s/it]"
          ]
        },
        {
          "name": "stdout",
          "output_type": "stream",
          "text": [
            "Epoch 22 Loss: 1.4567 Top1 train_acc: 58.08 Top1 test_acc: 51.83 Top5 test_acc: 80.31\n"
          ]
        },
        {
          "name": "stderr",
          "output_type": "stream",
          "text": [
            "Epochs:  60%|██████████████████            | 24/40 [02:56<01:59,  7.46s/it]"
          ]
        },
        {
          "name": "stdout",
          "output_type": "stream",
          "text": [
            "Epoch 23 Loss: 1.5068 Top1 train_acc: 58.94 Top1 test_acc: 51.51 Top5 test_acc: 80.82\n"
          ]
        },
        {
          "name": "stderr",
          "output_type": "stream",
          "text": [
            "Epochs:  62%|██████████████████▊           | 25/40 [03:03<01:50,  7.40s/it]"
          ]
        },
        {
          "name": "stdout",
          "output_type": "stream",
          "text": [
            "Epoch 24 Loss: 1.6334 Top1 train_acc: 59.44 Top1 test_acc: 51.56 Top5 test_acc: 80.64\n"
          ]
        },
        {
          "name": "stderr",
          "output_type": "stream",
          "text": [
            "Epochs:  65%|███████████████████▌          | 26/40 [03:11<01:44,  7.43s/it]"
          ]
        },
        {
          "name": "stdout",
          "output_type": "stream",
          "text": [
            "Epoch 25 Loss: 1.3190 Top1 train_acc: 60.08 Top1 test_acc: 52.57 Top5 test_acc: 80.94\n"
          ]
        },
        {
          "name": "stderr",
          "output_type": "stream",
          "text": [
            "Epochs:  68%|████████████████████▎         | 27/40 [03:18<01:36,  7.44s/it]"
          ]
        },
        {
          "name": "stdout",
          "output_type": "stream",
          "text": [
            "Epoch 26 Loss: 1.4372 Top1 train_acc: 60.85 Top1 test_acc: 51.32 Top5 test_acc: 80.76\n"
          ]
        },
        {
          "name": "stderr",
          "output_type": "stream",
          "text": [
            "Epochs:  70%|█████████████████████         | 28/40 [03:25<01:28,  7.38s/it]"
          ]
        },
        {
          "name": "stdout",
          "output_type": "stream",
          "text": [
            "Epoch 27 Loss: 1.5016 Top1 train_acc: 60.98 Top1 test_acc: 52.16 Top5 test_acc: 80.99\n"
          ]
        },
        {
          "name": "stderr",
          "output_type": "stream",
          "text": [
            "Epochs:  72%|█████████████████████▊        | 29/40 [03:33<01:20,  7.36s/it]"
          ]
        },
        {
          "name": "stdout",
          "output_type": "stream",
          "text": [
            "Epoch 28 Loss: 1.3148 Top1 train_acc: 62.41 Top1 test_acc: 52.17 Top5 test_acc: 81.37\n"
          ]
        },
        {
          "name": "stderr",
          "output_type": "stream",
          "text": [
            "Epochs:  75%|██████████████████████▌       | 30/40 [03:40<01:13,  7.34s/it]"
          ]
        },
        {
          "name": "stdout",
          "output_type": "stream",
          "text": [
            "Epoch 29 Loss: 1.2661 Top1 train_acc: 62.55 Top1 test_acc: 52.18 Top5 test_acc: 81.12\n"
          ]
        },
        {
          "name": "stderr",
          "output_type": "stream",
          "text": [
            "Epochs:  78%|███████████████████████▎      | 31/40 [03:47<01:05,  7.31s/it]"
          ]
        },
        {
          "name": "stdout",
          "output_type": "stream",
          "text": [
            "Epoch 30 Loss: 1.5626 Top1 train_acc: 63.28 Top1 test_acc: 52.73 Top5 test_acc: 81.29\n"
          ]
        },
        {
          "name": "stderr",
          "output_type": "stream",
          "text": [
            "Epochs:  80%|████████████████████████      | 32/40 [03:55<00:58,  7.35s/it]"
          ]
        },
        {
          "name": "stdout",
          "output_type": "stream",
          "text": [
            "Epoch 31 Loss: 1.5232 Top1 train_acc: 63.92 Top1 test_acc: 54.07 Top5 test_acc: 82.08\n"
          ]
        },
        {
          "name": "stderr",
          "output_type": "stream",
          "text": [
            "Epochs:  82%|████████████████████████▊     | 33/40 [04:02<00:51,  7.40s/it]"
          ]
        },
        {
          "name": "stdout",
          "output_type": "stream",
          "text": [
            "Epoch 32 Loss: 1.3425 Top1 train_acc: 64.42 Top1 test_acc: 53.07 Top5 test_acc: 81.18\n"
          ]
        },
        {
          "name": "stderr",
          "output_type": "stream",
          "text": [
            "Epochs:  85%|█████████████████████████▌    | 34/40 [04:10<00:44,  7.49s/it]"
          ]
        },
        {
          "name": "stdout",
          "output_type": "stream",
          "text": [
            "Epoch 33 Loss: 1.4054 Top1 train_acc: 64.67 Top1 test_acc: 53.20 Top5 test_acc: 82.17\n"
          ]
        },
        {
          "name": "stderr",
          "output_type": "stream",
          "text": [
            "Epochs:  88%|██████████████████████████▎   | 35/40 [04:18<00:38,  7.61s/it]"
          ]
        },
        {
          "name": "stdout",
          "output_type": "stream",
          "text": [
            "Epoch 34 Loss: 1.0984 Top1 train_acc: 65.36 Top1 test_acc: 53.99 Top5 test_acc: 81.88\n"
          ]
        },
        {
          "name": "stderr",
          "output_type": "stream",
          "text": [
            "Epochs:  90%|███████████████████████████   | 36/40 [04:26<00:30,  7.69s/it]"
          ]
        },
        {
          "name": "stdout",
          "output_type": "stream",
          "text": [
            "Epoch 35 Loss: 1.3806 Top1 train_acc: 65.97 Top1 test_acc: 53.81 Top5 test_acc: 82.29\n"
          ]
        },
        {
          "name": "stderr",
          "output_type": "stream",
          "text": [
            "Epochs:  92%|███████████████████████████▊  | 37/40 [04:34<00:23,  7.74s/it]"
          ]
        },
        {
          "name": "stdout",
          "output_type": "stream",
          "text": [
            "Epoch 36 Loss: 1.0492 Top1 train_acc: 66.66 Top1 test_acc: 53.49 Top5 test_acc: 81.15\n"
          ]
        },
        {
          "name": "stderr",
          "output_type": "stream",
          "text": [
            "Epochs:  95%|████████████████████████████▌ | 38/40 [04:41<00:15,  7.73s/it]"
          ]
        },
        {
          "name": "stdout",
          "output_type": "stream",
          "text": [
            "Epoch 37 Loss: 1.1642 Top1 train_acc: 66.89 Top1 test_acc: 53.28 Top5 test_acc: 81.82\n"
          ]
        },
        {
          "name": "stderr",
          "output_type": "stream",
          "text": [
            "Epochs:  98%|█████████████████████████████▎| 39/40 [04:49<00:07,  7.74s/it]"
          ]
        },
        {
          "name": "stdout",
          "output_type": "stream",
          "text": [
            "Epoch 38 Loss: 0.8796 Top1 train_acc: 67.15 Top1 test_acc: 53.57 Top5 test_acc: 80.77\n"
          ]
        },
        {
          "name": "stderr",
          "output_type": "stream",
          "text": [
            "Epochs: 100%|██████████████████████████████| 40/40 [04:57<00:00,  7.44s/it]"
          ]
        },
        {
          "name": "stdout",
          "output_type": "stream",
          "text": [
            "Epoch 39 Loss: 1.2204 Top1 train_acc: 67.98 Top1 test_acc: 53.99 Top5 test_acc: 81.28\n"
          ]
        },
        {
          "name": "stderr",
          "output_type": "stream",
          "text": [
            "\n"
          ]
        }
      ],
      "source": [
        "model = torchvision.models.resnet18(weights=None, num_classes=100).to(device)\n",
        "train(model, train_loader, test_loader, device, epochs=40)"
      ]
    }
  ],
  "metadata": {
    "accelerator": "GPU",
    "colab": {
      "include_colab_link": true,
      "name": "Copy of mini-batch-logistic-regression-evaluator.ipynb",
      "provenance": []
    },
    "kernelspec": {
      "display_name": "base",
      "language": "python",
      "name": "python3"
    },
    "language_info": {
      "codemirror_mode": {
        "name": "ipython",
        "version": 3
      },
      "file_extension": ".py",
      "mimetype": "text/x-python",
      "name": "python",
      "nbconvert_exporter": "python",
      "pygments_lexer": "ipython3",
      "version": "3.8.10"
    },
    "widgets": {
      "application/vnd.jupyter.widget-state+json": {
        "149b9ce8fb68473a837a77431c12281a": {
          "model_module": "@jupyter-widgets/controls",
          "model_name": "HBoxModel",
          "state": {
            "_dom_classes": [],
            "_model_module": "@jupyter-widgets/controls",
            "_model_module_version": "1.5.0",
            "_model_name": "HBoxModel",
            "_view_count": null,
            "_view_module": "@jupyter-widgets/controls",
            "_view_module_version": "1.5.0",
            "_view_name": "HBoxView",
            "box_style": "",
            "children": [
              "IPY_MODEL_a88c31d74f5c40a2b24bcff5a35d216c",
              "IPY_MODEL_60c6150177694717a622936b830427b5"
            ],
            "layout": "IPY_MODEL_88cd3db2831e4c13a4a634709700d6b2"
          }
        },
        "5901c2829a554c8ebbd5926610088041": {
          "model_module": "@jupyter-widgets/base",
          "model_name": "LayoutModel",
          "state": {
            "_model_module": "@jupyter-widgets/base",
            "_model_module_version": "1.2.0",
            "_model_name": "LayoutModel",
            "_view_count": null,
            "_view_module": "@jupyter-widgets/base",
            "_view_module_version": "1.2.0",
            "_view_name": "LayoutView",
            "align_content": null,
            "align_items": null,
            "align_self": null,
            "border": null,
            "bottom": null,
            "display": null,
            "flex": null,
            "flex_flow": null,
            "grid_area": null,
            "grid_auto_columns": null,
            "grid_auto_flow": null,
            "grid_auto_rows": null,
            "grid_column": null,
            "grid_gap": null,
            "grid_row": null,
            "grid_template_areas": null,
            "grid_template_columns": null,
            "grid_template_rows": null,
            "height": null,
            "justify_content": null,
            "justify_items": null,
            "left": null,
            "margin": null,
            "max_height": null,
            "max_width": null,
            "min_height": null,
            "min_width": null,
            "object_fit": null,
            "object_position": null,
            "order": null,
            "overflow": null,
            "overflow_x": null,
            "overflow_y": null,
            "padding": null,
            "right": null,
            "top": null,
            "visibility": null,
            "width": null
          }
        },
        "60c6150177694717a622936b830427b5": {
          "model_module": "@jupyter-widgets/controls",
          "model_name": "HTMLModel",
          "state": {
            "_dom_classes": [],
            "_model_module": "@jupyter-widgets/controls",
            "_model_module_version": "1.5.0",
            "_model_name": "HTMLModel",
            "_view_count": null,
            "_view_module": "@jupyter-widgets/controls",
            "_view_module_version": "1.5.0",
            "_view_name": "HTMLView",
            "description": "",
            "description_tooltip": null,
            "layout": "IPY_MODEL_a4f82234388e4701a02a9f68a177193a",
            "placeholder": "​",
            "style": "IPY_MODEL_957362a11d174407979cf17012bf9208",
            "value": " 2640404480/? [00:51&lt;00:00, 32685718.58it/s]"
          }
        },
        "88cd3db2831e4c13a4a634709700d6b2": {
          "model_module": "@jupyter-widgets/base",
          "model_name": "LayoutModel",
          "state": {
            "_model_module": "@jupyter-widgets/base",
            "_model_module_version": "1.2.0",
            "_model_name": "LayoutModel",
            "_view_count": null,
            "_view_module": "@jupyter-widgets/base",
            "_view_module_version": "1.2.0",
            "_view_name": "LayoutView",
            "align_content": null,
            "align_items": null,
            "align_self": null,
            "border": null,
            "bottom": null,
            "display": null,
            "flex": null,
            "flex_flow": null,
            "grid_area": null,
            "grid_auto_columns": null,
            "grid_auto_flow": null,
            "grid_auto_rows": null,
            "grid_column": null,
            "grid_gap": null,
            "grid_row": null,
            "grid_template_areas": null,
            "grid_template_columns": null,
            "grid_template_rows": null,
            "height": null,
            "justify_content": null,
            "justify_items": null,
            "left": null,
            "margin": null,
            "max_height": null,
            "max_width": null,
            "min_height": null,
            "min_width": null,
            "object_fit": null,
            "object_position": null,
            "order": null,
            "overflow": null,
            "overflow_x": null,
            "overflow_y": null,
            "padding": null,
            "right": null,
            "top": null,
            "visibility": null,
            "width": null
          }
        },
        "957362a11d174407979cf17012bf9208": {
          "model_module": "@jupyter-widgets/controls",
          "model_name": "DescriptionStyleModel",
          "state": {
            "_model_module": "@jupyter-widgets/controls",
            "_model_module_version": "1.5.0",
            "_model_name": "DescriptionStyleModel",
            "_view_count": null,
            "_view_module": "@jupyter-widgets/base",
            "_view_module_version": "1.2.0",
            "_view_name": "StyleView",
            "description_width": ""
          }
        },
        "a4f82234388e4701a02a9f68a177193a": {
          "model_module": "@jupyter-widgets/base",
          "model_name": "LayoutModel",
          "state": {
            "_model_module": "@jupyter-widgets/base",
            "_model_module_version": "1.2.0",
            "_model_name": "LayoutModel",
            "_view_count": null,
            "_view_module": "@jupyter-widgets/base",
            "_view_module_version": "1.2.0",
            "_view_name": "LayoutView",
            "align_content": null,
            "align_items": null,
            "align_self": null,
            "border": null,
            "bottom": null,
            "display": null,
            "flex": null,
            "flex_flow": null,
            "grid_area": null,
            "grid_auto_columns": null,
            "grid_auto_flow": null,
            "grid_auto_rows": null,
            "grid_column": null,
            "grid_gap": null,
            "grid_row": null,
            "grid_template_areas": null,
            "grid_template_columns": null,
            "grid_template_rows": null,
            "height": null,
            "justify_content": null,
            "justify_items": null,
            "left": null,
            "margin": null,
            "max_height": null,
            "max_width": null,
            "min_height": null,
            "min_width": null,
            "object_fit": null,
            "object_position": null,
            "order": null,
            "overflow": null,
            "overflow_x": null,
            "overflow_y": null,
            "padding": null,
            "right": null,
            "top": null,
            "visibility": null,
            "width": null
          }
        },
        "a88c31d74f5c40a2b24bcff5a35d216c": {
          "model_module": "@jupyter-widgets/controls",
          "model_name": "FloatProgressModel",
          "state": {
            "_dom_classes": [],
            "_model_module": "@jupyter-widgets/controls",
            "_model_module_version": "1.5.0",
            "_model_name": "FloatProgressModel",
            "_view_count": null,
            "_view_module": "@jupyter-widgets/controls",
            "_view_module_version": "1.5.0",
            "_view_name": "ProgressView",
            "bar_style": "info",
            "description": "",
            "description_tooltip": null,
            "layout": "IPY_MODEL_5901c2829a554c8ebbd5926610088041",
            "max": 1,
            "min": 0,
            "orientation": "horizontal",
            "style": "IPY_MODEL_dba019efadee4fdc8c799f309b9a7e70",
            "value": 1
          }
        },
        "dba019efadee4fdc8c799f309b9a7e70": {
          "model_module": "@jupyter-widgets/controls",
          "model_name": "ProgressStyleModel",
          "state": {
            "_model_module": "@jupyter-widgets/controls",
            "_model_module_version": "1.5.0",
            "_model_name": "ProgressStyleModel",
            "_view_count": null,
            "_view_module": "@jupyter-widgets/base",
            "_view_module_version": "1.2.0",
            "_view_name": "StyleView",
            "bar_color": null,
            "description_width": "initial"
          }
        }
      }
    }
  },
  "nbformat": 4,
  "nbformat_minor": 0
}
